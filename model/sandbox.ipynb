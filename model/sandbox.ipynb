{
 "cells": [
  {
   "cell_type": "code",
   "execution_count": null,
   "metadata": {},
   "outputs": [],
   "source": [
    "import os\n",
    "import torch\n",
    "import numpy as np\n",
    "from datasets import ADNI\n",
    "from torch_geometric.data import DataLoader\n",
    "import torch.nn.functional as F\n",
    "from torch.nn import Linear\n",
    "from torch_geometric.nn import ChebConv\n",
    "\n",
    "data = ADNI(root='./data/imaging/')\n",
    "loader = DataLoader(data, batch_size=5, shuffle=True)"
   ]
  },
  {
   "cell_type": "code",
   "execution_count": null,
   "metadata": {},
   "outputs": [],
   "source": [
    "batch_size = 5\n",
    "num_epochs = 50\n",
    "filters    = [5, 10]\n",
    "khops      = [4, 2]\n",
    "fc_size    = 112\n",
    "\n",
    "class Net(torch.nn.Module):\n",
    "    def __init__(self):\n",
    "        super(Net, self).__init__()\n",
    "        self.conv1 = ChebConv(data.num_features, filters[0], khops[0])\n",
    "        self.conv2 = ChebConv(filters[0], filters[1], khops[1])\n",
    "        self.fc = Linear(86*filters[1], fc_size)\n",
    "        self.logits = Linear(fc_size, 2)\n",
    "\n",
    "    def forward(self, data):\n",
    "        x, edge_index = data.x, data.edge_index\n",
    "        #print('input:',x.shape)\n",
    "        \n",
    "        x = self.conv1(x, edge_index)\n",
    "        x = F.relu(x)\n",
    "        #print('conv1:', x.shape)\n",
    "        \n",
    "        x = self.conv2(x, edge_index)\n",
    "        x = F.relu(x)\n",
    "        #print('conv2:', x.shape)\n",
    "        \n",
    "        x = x.view([data.num_graphs, (data.num_nodes/data.num_graphs)*filters[1]])\n",
    "        #print('view:', x.shape)\n",
    "        x = self.fc(x)\n",
    "        x = F.dropout(x, training=self.training)\n",
    "        #print('fc:', x.shape)\n",
    "        \n",
    "        x = self.logits(x)\n",
    "        #print('logits:', x.shape)\n",
    "\n",
    "        return x\n",
    "\n",
    "device = torch.device('cuda' if torch.cuda.is_available() else 'cpu')\n",
    "model = Net().to(device)\n",
    "optimizer = torch.optim.Adam(model.parameters(), lr=0.01, weight_decay=5e-4)\n",
    "\n",
    "model.train()\n",
    "for epoch in range(num_epochs):\n",
    "    for data in loader:\n",
    "        data = data.to(device)\n",
    "        optimizer.zero_grad()\n",
    "        out = model(data)\n",
    "        loss = F.nll_loss(out, data.y)\n",
    "        loss.backward()\n",
    "        optimizer.step()\n",
    "    if epoch % round(num_epochs/10) == 0:\n",
    "        print('training.. (epoch {}/{})'.format(epoch,num_epochs))\n",
    "print('Done')"
   ]
  },
  {
   "cell_type": "code",
   "execution_count": null,
   "metadata": {},
   "outputs": [],
   "source": [
    "model.eval()\n",
    "predictions, target = [], []\n",
    "for data in loader:\n",
    "    pred = model(data)\n",
    "    predictions.extend(torch.Tensor.numpy(\n",
    "                       torch.argmax(pred, dim=1)))\n",
    "    target.extend(torch.Tensor.numpy(data.y))\n",
    "#     print('p',torch.argmax(pred, dim=1))\n",
    "#     print('y',data.y)\n",
    "#     c = torch.argmax(pred, dim=1).eq(data.y).sum().item()\n",
    "    \n",
    "    \n",
    "#     print('correct:', correct,'\\n')\n",
    "#     correct += c\n",
    "#     total += data.y.size(0)\n",
    "#     print(correct, total,'\\n')\n",
    "# print('Accuracy: {:.2f}'.format((correct/total)))"
   ]
  },
  {
   "cell_type": "code",
   "execution_count": null,
   "metadata": {},
   "outputs": [],
   "source": [
    "torch.softmax(pred)"
   ]
  }
 ],
 "metadata": {
  "kernelspec": {
   "display_name": "Python 3",
   "language": "python",
   "name": "python3"
  },
  "language_info": {
   "codemirror_mode": {
    "name": "ipython",
    "version": 3
   },
   "file_extension": ".py",
   "mimetype": "text/x-python",
   "name": "python",
   "nbconvert_exporter": "python",
   "pygments_lexer": "ipython3",
   "version": "3.6.6"
  }
 },
 "nbformat": 4,
 "nbformat_minor": 2
}
